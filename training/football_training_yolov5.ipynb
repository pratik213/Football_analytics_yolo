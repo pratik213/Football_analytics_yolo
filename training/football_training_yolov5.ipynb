{
 "cells": [
  {
   "cell_type": "code",
   "execution_count": 3,
   "metadata": {},
   "outputs": [
    {
     "name": "stdout",
     "output_type": "stream",
     "text": [
      "Requirement already satisfied: ultralytics in d:\\study_related\\sports data science\\football_analysis_project\\venv\\lib\\site-packages (8.3.99)\n",
      "Requirement already satisfied: scipy>=1.4.1 in d:\\study_related\\sports data science\\football_analysis_project\\venv\\lib\\site-packages (from ultralytics) (1.13.1)\n",
      "Requirement already satisfied: pandas>=1.1.4 in d:\\study_related\\sports data science\\football_analysis_project\\venv\\lib\\site-packages (from ultralytics) (2.2.3)\n",
      "Requirement already satisfied: matplotlib>=3.3.0 in d:\\study_related\\sports data science\\football_analysis_project\\venv\\lib\\site-packages (from ultralytics) (3.9.4)\n",
      "Requirement already satisfied: opencv-python>=4.6.0 in d:\\study_related\\sports data science\\football_analysis_project\\venv\\lib\\site-packages (from ultralytics) (4.11.0.86)\n",
      "Requirement already satisfied: ultralytics-thop>=2.0.0 in d:\\study_related\\sports data science\\football_analysis_project\\venv\\lib\\site-packages (from ultralytics) (2.0.14)\n",
      "Requirement already satisfied: torchvision>=0.9.0 in d:\\study_related\\sports data science\\football_analysis_project\\venv\\lib\\site-packages (from ultralytics) (0.21.0)\n",
      "Requirement already satisfied: torch>=1.8.0 in d:\\study_related\\sports data science\\football_analysis_project\\venv\\lib\\site-packages (from ultralytics) (2.6.0)\n",
      "Requirement already satisfied: requests>=2.23.0 in d:\\study_related\\sports data science\\football_analysis_project\\venv\\lib\\site-packages (from ultralytics) (2.32.3)\n",
      "Requirement already satisfied: seaborn>=0.11.0 in d:\\study_related\\sports data science\\football_analysis_project\\venv\\lib\\site-packages (from ultralytics) (0.13.2)\n",
      "Requirement already satisfied: numpy<=2.1.1,>=1.23.0 in d:\\study_related\\sports data science\\football_analysis_project\\venv\\lib\\site-packages (from ultralytics) (1.26.4)\n",
      "Requirement already satisfied: pyyaml>=5.3.1 in d:\\study_related\\sports data science\\football_analysis_project\\venv\\lib\\site-packages (from ultralytics) (6.0.2)\n",
      "Requirement already satisfied: tqdm>=4.64.0 in d:\\study_related\\sports data science\\football_analysis_project\\venv\\lib\\site-packages (from ultralytics) (4.67.1)\n",
      "Requirement already satisfied: pillow>=7.1.2 in d:\\study_related\\sports data science\\football_analysis_project\\venv\\lib\\site-packages (from ultralytics) (11.1.0)\n",
      "Requirement already satisfied: psutil in d:\\study_related\\sports data science\\football_analysis_project\\venv\\lib\\site-packages (from ultralytics) (7.0.0)\n",
      "Requirement already satisfied: py-cpuinfo in d:\\study_related\\sports data science\\football_analysis_project\\venv\\lib\\site-packages (from ultralytics) (9.0.0)\n",
      "Requirement already satisfied: cycler>=0.10 in d:\\study_related\\sports data science\\football_analysis_project\\venv\\lib\\site-packages (from matplotlib>=3.3.0->ultralytics) (0.12.1)\n",
      "Requirement already satisfied: contourpy>=1.0.1 in d:\\study_related\\sports data science\\football_analysis_project\\venv\\lib\\site-packages (from matplotlib>=3.3.0->ultralytics) (1.3.0)\n",
      "Requirement already satisfied: importlib-resources>=3.2.0 in d:\\study_related\\sports data science\\football_analysis_project\\venv\\lib\\site-packages (from matplotlib>=3.3.0->ultralytics) (6.5.2)\n",
      "Requirement already satisfied: packaging>=20.0 in d:\\study_related\\sports data science\\football_analysis_project\\venv\\lib\\site-packages (from matplotlib>=3.3.0->ultralytics) (24.2)\n",
      "Requirement already satisfied: kiwisolver>=1.3.1 in d:\\study_related\\sports data science\\football_analysis_project\\venv\\lib\\site-packages (from matplotlib>=3.3.0->ultralytics) (1.4.7)\n",
      "Requirement already satisfied: fonttools>=4.22.0 in d:\\study_related\\sports data science\\football_analysis_project\\venv\\lib\\site-packages (from matplotlib>=3.3.0->ultralytics) (4.56.0)\n",
      "Requirement already satisfied: pyparsing>=2.3.1 in d:\\study_related\\sports data science\\football_analysis_project\\venv\\lib\\site-packages (from matplotlib>=3.3.0->ultralytics) (3.2.3)\n",
      "Requirement already satisfied: python-dateutil>=2.7 in d:\\study_related\\sports data science\\football_analysis_project\\venv\\lib\\site-packages (from matplotlib>=3.3.0->ultralytics) (2.9.0.post0)\n",
      "Requirement already satisfied: tzdata>=2022.7 in d:\\study_related\\sports data science\\football_analysis_project\\venv\\lib\\site-packages (from pandas>=1.1.4->ultralytics) (2025.2)\n",
      "Requirement already satisfied: pytz>=2020.1 in d:\\study_related\\sports data science\\football_analysis_project\\venv\\lib\\site-packages (from pandas>=1.1.4->ultralytics) (2025.2)\n",
      "Requirement already satisfied: certifi>=2017.4.17 in d:\\study_related\\sports data science\\football_analysis_project\\venv\\lib\\site-packages (from requests>=2.23.0->ultralytics) (2025.1.31)\n",
      "Requirement already satisfied: urllib3<3,>=1.21.1 in d:\\study_related\\sports data science\\football_analysis_project\\venv\\lib\\site-packages (from requests>=2.23.0->ultralytics) (2.3.0)\n",
      "Requirement already satisfied: charset-normalizer<4,>=2 in d:\\study_related\\sports data science\\football_analysis_project\\venv\\lib\\site-packages (from requests>=2.23.0->ultralytics) (3.4.1)\n",
      "Requirement already satisfied: idna<4,>=2.5 in d:\\study_related\\sports data science\\football_analysis_project\\venv\\lib\\site-packages (from requests>=2.23.0->ultralytics) (3.10)\n",
      "Requirement already satisfied: typing-extensions>=4.10.0 in d:\\study_related\\sports data science\\football_analysis_project\\venv\\lib\\site-packages (from torch>=1.8.0->ultralytics) (4.13.0)\n",
      "Requirement already satisfied: fsspec in d:\\study_related\\sports data science\\football_analysis_project\\venv\\lib\\site-packages (from torch>=1.8.0->ultralytics) (2025.3.2)\n",
      "Requirement already satisfied: jinja2 in d:\\study_related\\sports data science\\football_analysis_project\\venv\\lib\\site-packages (from torch>=1.8.0->ultralytics) (3.1.6)\n",
      "Requirement already satisfied: filelock in d:\\study_related\\sports data science\\football_analysis_project\\venv\\lib\\site-packages (from torch>=1.8.0->ultralytics) (3.18.0)\n",
      "Requirement already satisfied: networkx in d:\\study_related\\sports data science\\football_analysis_project\\venv\\lib\\site-packages (from torch>=1.8.0->ultralytics) (3.1)\n",
      "Requirement already satisfied: sympy==1.13.1 in d:\\study_related\\sports data science\\football_analysis_project\\venv\\lib\\site-packages (from torch>=1.8.0->ultralytics) (1.13.1)\n",
      "Requirement already satisfied: mpmath<1.4,>=1.1.0 in d:\\study_related\\sports data science\\football_analysis_project\\venv\\lib\\site-packages (from sympy==1.13.1->torch>=1.8.0->ultralytics) (1.3.0)\n",
      "Requirement already satisfied: colorama in d:\\study_related\\sports data science\\football_analysis_project\\venv\\lib\\site-packages (from tqdm>=4.64.0->ultralytics) (0.4.6)\n",
      "Requirement already satisfied: zipp>=3.1.0 in d:\\study_related\\sports data science\\football_analysis_project\\venv\\lib\\site-packages (from importlib-resources>=3.2.0->matplotlib>=3.3.0->ultralytics) (3.21.0)\n",
      "Requirement already satisfied: six>=1.5 in d:\\study_related\\sports data science\\football_analysis_project\\venv\\lib\\site-packages (from python-dateutil>=2.7->matplotlib>=3.3.0->ultralytics) (1.17.0)\n",
      "Requirement already satisfied: MarkupSafe>=2.0 in d:\\study_related\\sports data science\\football_analysis_project\\venv\\lib\\site-packages (from jinja2->torch>=1.8.0->ultralytics) (3.0.2)\n"
     ]
    },
    {
     "name": "stderr",
     "output_type": "stream",
     "text": [
      "WARNING: You are using pip version 22.0.4; however, version 25.0.1 is available.\n",
      "You should consider upgrading via the 'D:\\Study_Related\\Sports Data Science\\Football_Analysis_Project\\venv\\Scripts\\python.exe -m pip install --upgrade pip' command.\n"
     ]
    },
    {
     "name": "stdout",
     "output_type": "stream",
     "text": [
      "Collecting roboflow\n",
      "  Downloading roboflow-1.1.58-py3-none-any.whl (84 kB)\n",
      "     ---------------------------------------- 84.5/84.5 KB 2.3 MB/s eta 0:00:00\n",
      "Requirement already satisfied: kiwisolver>=1.3.1 in d:\\study_related\\sports data science\\football_analysis_project\\venv\\lib\\site-packages (from roboflow) (1.4.7)\n",
      "Requirement already satisfied: Pillow>=7.1.2 in d:\\study_related\\sports data science\\football_analysis_project\\venv\\lib\\site-packages (from roboflow) (11.1.0)\n",
      "Requirement already satisfied: six in d:\\study_related\\sports data science\\football_analysis_project\\venv\\lib\\site-packages (from roboflow) (1.17.0)\n",
      "Collecting filetype\n",
      "  Downloading filetype-1.2.0-py2.py3-none-any.whl (19 kB)\n",
      "Requirement already satisfied: python-dateutil in d:\\study_related\\sports data science\\football_analysis_project\\venv\\lib\\site-packages (from roboflow) (2.9.0.post0)\n",
      "Collecting idna==3.7\n",
      "  Using cached idna-3.7-py3-none-any.whl (66 kB)\n",
      "Collecting opencv-python-headless==4.10.0.84\n",
      "  Downloading opencv_python_headless-4.10.0.84-cp37-abi3-win_amd64.whl (38.8 MB)\n",
      "     ---------------------------------------- 38.8/38.8 MB 5.1 MB/s eta 0:00:00\n",
      "Requirement already satisfied: requests in d:\\study_related\\sports data science\\football_analysis_project\\venv\\lib\\site-packages (from roboflow) (2.32.3)\n",
      "Collecting pillow-heif>=0.18.0\n",
      "  Downloading pillow_heif-0.22.0-cp39-cp39-win_amd64.whl (8.6 MB)\n",
      "     ---------------------------------------- 8.6/8.6 MB 3.1 MB/s eta 0:00:00\n",
      "Requirement already satisfied: cycler in d:\\study_related\\sports data science\\football_analysis_project\\venv\\lib\\site-packages (from roboflow) (0.12.1)\n",
      "Requirement already satisfied: matplotlib in d:\\study_related\\sports data science\\football_analysis_project\\venv\\lib\\site-packages (from roboflow) (3.9.4)\n",
      "Requirement already satisfied: urllib3>=1.26.6 in d:\\study_related\\sports data science\\football_analysis_project\\venv\\lib\\site-packages (from roboflow) (2.3.0)\n",
      "Requirement already satisfied: tqdm>=4.41.0 in d:\\study_related\\sports data science\\football_analysis_project\\venv\\lib\\site-packages (from roboflow) (4.67.1)\n",
      "Collecting python-dotenv\n",
      "  Downloading python_dotenv-1.1.0-py3-none-any.whl (20 kB)\n",
      "Requirement already satisfied: certifi in d:\\study_related\\sports data science\\football_analysis_project\\venv\\lib\\site-packages (from roboflow) (2025.1.31)\n",
      "Requirement already satisfied: PyYAML>=5.3.1 in d:\\study_related\\sports data science\\football_analysis_project\\venv\\lib\\site-packages (from roboflow) (6.0.2)\n",
      "Requirement already satisfied: numpy>=1.18.5 in d:\\study_related\\sports data science\\football_analysis_project\\venv\\lib\\site-packages (from roboflow) (1.26.4)\n",
      "Collecting requests-toolbelt\n",
      "  Downloading requests_toolbelt-1.0.0-py2.py3-none-any.whl (54 kB)\n",
      "     ---------------------------------------- 54.5/54.5 KB 2.8 MB/s eta 0:00:00\n",
      "Requirement already satisfied: colorama in d:\\study_related\\sports data science\\football_analysis_project\\venv\\lib\\site-packages (from tqdm>=4.41.0->roboflow) (0.4.6)\n",
      "Requirement already satisfied: packaging>=20.0 in d:\\study_related\\sports data science\\football_analysis_project\\venv\\lib\\site-packages (from matplotlib->roboflow) (24.2)\n",
      "Requirement already satisfied: contourpy>=1.0.1 in d:\\study_related\\sports data science\\football_analysis_project\\venv\\lib\\site-packages (from matplotlib->roboflow) (1.3.0)\n",
      "Requirement already satisfied: pyparsing>=2.3.1 in d:\\study_related\\sports data science\\football_analysis_project\\venv\\lib\\site-packages (from matplotlib->roboflow) (3.2.3)\n",
      "Requirement already satisfied: fonttools>=4.22.0 in d:\\study_related\\sports data science\\football_analysis_project\\venv\\lib\\site-packages (from matplotlib->roboflow) (4.56.0)\n",
      "Requirement already satisfied: importlib-resources>=3.2.0 in d:\\study_related\\sports data science\\football_analysis_project\\venv\\lib\\site-packages (from matplotlib->roboflow) (6.5.2)\n",
      "Requirement already satisfied: charset-normalizer<4,>=2 in d:\\study_related\\sports data science\\football_analysis_project\\venv\\lib\\site-packages (from requests->roboflow) (3.4.1)\n",
      "Requirement already satisfied: zipp>=3.1.0 in d:\\study_related\\sports data science\\football_analysis_project\\venv\\lib\\site-packages (from importlib-resources>=3.2.0->matplotlib->roboflow) (3.21.0)\n",
      "Installing collected packages: filetype, python-dotenv, pillow-heif, opencv-python-headless, idna, requests-toolbelt, roboflow\n",
      "  Attempting uninstall: idna\n",
      "    Found existing installation: idna 3.10\n",
      "    Uninstalling idna-3.10:\n",
      "      Successfully uninstalled idna-3.10\n",
      "Successfully installed filetype-1.2.0 idna-3.7 opencv-python-headless-4.10.0.84 pillow-heif-0.22.0 python-dotenv-1.1.0 requests-toolbelt-1.0.0 roboflow-1.1.58\n"
     ]
    },
    {
     "name": "stderr",
     "output_type": "stream",
     "text": [
      "WARNING: You are using pip version 22.0.4; however, version 25.0.1 is available.\n",
      "You should consider upgrading via the 'D:\\Study_Related\\Sports Data Science\\Football_Analysis_Project\\venv\\Scripts\\python.exe -m pip install --upgrade pip' command.\n"
     ]
    }
   ],
   "source": [
    "!pip install ultralytics\n",
    "!pip install roboflow"
   ]
  },
  {
   "cell_type": "code",
   "execution_count": 4,
   "metadata": {},
   "outputs": [
    {
     "name": "stdout",
     "output_type": "stream",
     "text": [
      "Requirement already satisfied: roboflow in d:\\study_related\\sports data science\\football_analysis_project\\venv\\lib\\site-packages (1.1.58)\n",
      "Requirement already satisfied: six in d:\\study_related\\sports data science\\football_analysis_project\\venv\\lib\\site-packages (from roboflow) (1.17.0)\n",
      "Requirement already satisfied: filetype in d:\\study_related\\sports data science\\football_analysis_project\\venv\\lib\\site-packages (from roboflow) (1.2.0)\n",
      "Requirement already satisfied: matplotlib in d:\\study_related\\sports data science\\football_analysis_project\\venv\\lib\\site-packages (from roboflow) (3.9.4)\n",
      "Requirement already satisfied: opencv-python-headless==4.10.0.84 in d:\\study_related\\sports data science\\football_analysis_project\\venv\\lib\\site-packages (from roboflow) (4.10.0.84)\n",
      "Requirement already satisfied: python-dateutil in d:\\study_related\\sports data science\\football_analysis_project\\venv\\lib\\site-packages (from roboflow) (2.9.0.post0)\n",
      "Requirement already satisfied: urllib3>=1.26.6 in d:\\study_related\\sports data science\\football_analysis_project\\venv\\lib\\site-packages (from roboflow) (2.3.0)\n",
      "Requirement already satisfied: Pillow>=7.1.2 in d:\\study_related\\sports data science\\football_analysis_project\\venv\\lib\\site-packages (from roboflow) (11.1.0)\n",
      "Requirement already satisfied: pillow-heif>=0.18.0 in d:\\study_related\\sports data science\\football_analysis_project\\venv\\lib\\site-packages (from roboflow) (0.22.0)\n",
      "Requirement already satisfied: python-dotenv in d:\\study_related\\sports data science\\football_analysis_project\\venv\\lib\\site-packages (from roboflow) (1.1.0)\n",
      "Requirement already satisfied: certifi in d:\\study_related\\sports data science\\football_analysis_project\\venv\\lib\\site-packages (from roboflow) (2025.1.31)\n",
      "Requirement already satisfied: cycler in d:\\study_related\\sports data science\\football_analysis_project\\venv\\lib\\site-packages (from roboflow) (0.12.1)\n",
      "Requirement already satisfied: requests in d:\\study_related\\sports data science\\football_analysis_project\\venv\\lib\\site-packages (from roboflow) (2.32.3)\n",
      "Requirement already satisfied: requests-toolbelt in d:\\study_related\\sports data science\\football_analysis_project\\venv\\lib\\site-packages (from roboflow) (1.0.0)\n",
      "Requirement already satisfied: kiwisolver>=1.3.1 in d:\\study_related\\sports data science\\football_analysis_project\\venv\\lib\\site-packages (from roboflow) (1.4.7)\n",
      "Requirement already satisfied: tqdm>=4.41.0 in d:\\study_related\\sports data science\\football_analysis_project\\venv\\lib\\site-packages (from roboflow) (4.67.1)\n",
      "Requirement already satisfied: idna==3.7 in d:\\study_related\\sports data science\\football_analysis_project\\venv\\lib\\site-packages (from roboflow) (3.7)\n",
      "Requirement already satisfied: numpy>=1.18.5 in d:\\study_related\\sports data science\\football_analysis_project\\venv\\lib\\site-packages (from roboflow) (1.26.4)\n",
      "Requirement already satisfied: PyYAML>=5.3.1 in d:\\study_related\\sports data science\\football_analysis_project\\venv\\lib\\site-packages (from roboflow) (6.0.2)\n",
      "Requirement already satisfied: colorama in d:\\study_related\\sports data science\\football_analysis_project\\venv\\lib\\site-packages (from tqdm>=4.41.0->roboflow) (0.4.6)\n",
      "Requirement already satisfied: fonttools>=4.22.0 in d:\\study_related\\sports data science\\football_analysis_project\\venv\\lib\\site-packages (from matplotlib->roboflow) (4.56.0)\n",
      "Requirement already satisfied: importlib-resources>=3.2.0 in d:\\study_related\\sports data science\\football_analysis_project\\venv\\lib\\site-packages (from matplotlib->roboflow) (6.5.2)\n",
      "Requirement already satisfied: contourpy>=1.0.1 in d:\\study_related\\sports data science\\football_analysis_project\\venv\\lib\\site-packages (from matplotlib->roboflow) (1.3.0)\n",
      "Requirement already satisfied: pyparsing>=2.3.1 in d:\\study_related\\sports data science\\football_analysis_project\\venv\\lib\\site-packages (from matplotlib->roboflow) (3.2.3)\n",
      "Requirement already satisfied: packaging>=20.0 in d:\\study_related\\sports data science\\football_analysis_project\\venv\\lib\\site-packages (from matplotlib->roboflow) (24.2)\n",
      "Requirement already satisfied: charset-normalizer<4,>=2 in d:\\study_related\\sports data science\\football_analysis_project\\venv\\lib\\site-packages (from requests->roboflow) (3.4.1)\n",
      "Requirement already satisfied: zipp>=3.1.0 in d:\\study_related\\sports data science\\football_analysis_project\\venv\\lib\\site-packages (from importlib-resources>=3.2.0->matplotlib->roboflow) (3.21.0)\n"
     ]
    },
    {
     "name": "stderr",
     "output_type": "stream",
     "text": [
      "WARNING: You are using pip version 22.0.4; however, version 25.0.1 is available.\n",
      "You should consider upgrading via the 'D:\\Study_Related\\Sports Data Science\\Football_Analysis_Project\\venv\\Scripts\\python.exe -m pip install --upgrade pip' command.\n"
     ]
    },
    {
     "name": "stdout",
     "output_type": "stream",
     "text": [
      "loading Roboflow workspace...\n",
      "loading Roboflow project...\n"
     ]
    },
    {
     "name": "stderr",
     "output_type": "stream",
     "text": [
      "Downloading Dataset Version Zip in football-players-detection-1 to yolov5pytorch:: 100%|██████████| 148663/148663 [00:23<00:00, 6258.00it/s]\n"
     ]
    },
    {
     "name": "stdout",
     "output_type": "stream",
     "text": [
      "\n"
     ]
    },
    {
     "name": "stderr",
     "output_type": "stream",
     "text": [
      "Extracting Dataset Version Zip to football-players-detection-1 in yolov5pytorch:: 100%|██████████| 1338/1338 [00:01<00:00, 1098.33it/s]\n"
     ]
    }
   ],
   "source": [
    "# GET DATASET\n",
    "!pip install roboflow\n",
    "\n",
    "from roboflow import Roboflow\n",
    "rf = Roboflow(api_key=\"KVSrZVagHW4EJMZW9Wry\")\n",
    "project = rf.workspace(\"roboflow-jvuqo\").project(\"football-players-detection-3zvbc\")\n",
    "version = project.version(1)\n",
    "dataset = version.download(\"yolov5\")"
   ]
  },
  {
   "cell_type": "code",
   "execution_count": 5,
   "metadata": {},
   "outputs": [
    {
     "data": {
      "text/plain": [
       "'d:\\\\Study_Related\\\\Sports Data Science\\\\Football_Analysis_Project\\\\training\\\\football-players-detection-1'"
      ]
     },
     "execution_count": 5,
     "metadata": {},
     "output_type": "execute_result"
    }
   ],
   "source": [
    "dataset.location"
   ]
  },
  {
   "cell_type": "code",
   "execution_count": 6,
   "metadata": {},
   "outputs": [
    {
     "data": {
      "text/plain": [
       "'football-players-detection-1/football-players-detection-1/valid'"
      ]
     },
     "execution_count": 6,
     "metadata": {},
     "output_type": "execute_result"
    }
   ],
   "source": [
    "import shutil\n",
    "\n",
    "shutil.move('football-players-detection-1/train',\n",
    "'football-players-detection-1/football-players-detection-1/train')\n",
    "\n",
    "shutil.move('football-players-detection-1/test',\n",
    "'football-players-detection-1/football-players-detection-1/test')\n",
    "\n",
    "shutil.move('football-players-detection-1/valid',\n",
    "'football-players-detection-1/football-players-detection-1/valid')"
   ]
  },
  {
   "cell_type": "markdown",
   "metadata": {},
   "source": [
    "# TRAINING\n",
    "\n"
   ]
  },
  {
   "cell_type": "code",
   "execution_count": null,
   "metadata": {},
   "outputs": [],
   "source": [
    "!yolo task=detect mode=train model=yolov5x.pt data={dataset.location}/data.yml epochs=10 imgsz=640"
   ]
  }
 ],
 "metadata": {
  "kernelspec": {
   "display_name": "venv",
   "language": "python",
   "name": "python3"
  },
  "language_info": {
   "codemirror_mode": {
    "name": "ipython",
    "version": 3
   },
   "file_extension": ".py",
   "mimetype": "text/x-python",
   "name": "python",
   "nbconvert_exporter": "python",
   "pygments_lexer": "ipython3",
   "version": "3.9.13"
  }
 },
 "nbformat": 4,
 "nbformat_minor": 2
}
